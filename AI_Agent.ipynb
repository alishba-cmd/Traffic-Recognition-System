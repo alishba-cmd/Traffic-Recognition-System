{
  "cells": [
    {
      "cell_type": "code",
      "execution_count": 6,
      "metadata": {
        "colab": {
          "base_uri": "https://localhost:8080/",
          "height": 73
        },
        "id": "Se70s24hHIIV",
        "outputId": "2fab041f-45f8-4566-9868-0db3e8a77ba1"
      },
      "outputs": [
        {
          "output_type": "display_data",
          "data": {
            "text/plain": [
              "<IPython.core.display.HTML object>"
            ],
            "text/html": [
              "\n",
              "     <input type=\"file\" id=\"files-5dbd641d-baf8-477e-93ee-3db091611a9e\" name=\"files[]\" multiple disabled\n",
              "        style=\"border:none\" />\n",
              "     <output id=\"result-5dbd641d-baf8-477e-93ee-3db091611a9e\">\n",
              "      Upload widget is only available when the cell has been executed in the\n",
              "      current browser session. Please rerun this cell to enable.\n",
              "      </output>\n",
              "      <script>// Copyright 2017 Google LLC\n",
              "//\n",
              "// Licensed under the Apache License, Version 2.0 (the \"License\");\n",
              "// you may not use this file except in compliance with the License.\n",
              "// You may obtain a copy of the License at\n",
              "//\n",
              "//      http://www.apache.org/licenses/LICENSE-2.0\n",
              "//\n",
              "// Unless required by applicable law or agreed to in writing, software\n",
              "// distributed under the License is distributed on an \"AS IS\" BASIS,\n",
              "// WITHOUT WARRANTIES OR CONDITIONS OF ANY KIND, either express or implied.\n",
              "// See the License for the specific language governing permissions and\n",
              "// limitations under the License.\n",
              "\n",
              "/**\n",
              " * @fileoverview Helpers for google.colab Python module.\n",
              " */\n",
              "(function(scope) {\n",
              "function span(text, styleAttributes = {}) {\n",
              "  const element = document.createElement('span');\n",
              "  element.textContent = text;\n",
              "  for (const key of Object.keys(styleAttributes)) {\n",
              "    element.style[key] = styleAttributes[key];\n",
              "  }\n",
              "  return element;\n",
              "}\n",
              "\n",
              "// Max number of bytes which will be uploaded at a time.\n",
              "const MAX_PAYLOAD_SIZE = 100 * 1024;\n",
              "\n",
              "function _uploadFiles(inputId, outputId) {\n",
              "  const steps = uploadFilesStep(inputId, outputId);\n",
              "  const outputElement = document.getElementById(outputId);\n",
              "  // Cache steps on the outputElement to make it available for the next call\n",
              "  // to uploadFilesContinue from Python.\n",
              "  outputElement.steps = steps;\n",
              "\n",
              "  return _uploadFilesContinue(outputId);\n",
              "}\n",
              "\n",
              "// This is roughly an async generator (not supported in the browser yet),\n",
              "// where there are multiple asynchronous steps and the Python side is going\n",
              "// to poll for completion of each step.\n",
              "// This uses a Promise to block the python side on completion of each step,\n",
              "// then passes the result of the previous step as the input to the next step.\n",
              "function _uploadFilesContinue(outputId) {\n",
              "  const outputElement = document.getElementById(outputId);\n",
              "  const steps = outputElement.steps;\n",
              "\n",
              "  const next = steps.next(outputElement.lastPromiseValue);\n",
              "  return Promise.resolve(next.value.promise).then((value) => {\n",
              "    // Cache the last promise value to make it available to the next\n",
              "    // step of the generator.\n",
              "    outputElement.lastPromiseValue = value;\n",
              "    return next.value.response;\n",
              "  });\n",
              "}\n",
              "\n",
              "/**\n",
              " * Generator function which is called between each async step of the upload\n",
              " * process.\n",
              " * @param {string} inputId Element ID of the input file picker element.\n",
              " * @param {string} outputId Element ID of the output display.\n",
              " * @return {!Iterable<!Object>} Iterable of next steps.\n",
              " */\n",
              "function* uploadFilesStep(inputId, outputId) {\n",
              "  const inputElement = document.getElementById(inputId);\n",
              "  inputElement.disabled = false;\n",
              "\n",
              "  const outputElement = document.getElementById(outputId);\n",
              "  outputElement.innerHTML = '';\n",
              "\n",
              "  const pickedPromise = new Promise((resolve) => {\n",
              "    inputElement.addEventListener('change', (e) => {\n",
              "      resolve(e.target.files);\n",
              "    });\n",
              "  });\n",
              "\n",
              "  const cancel = document.createElement('button');\n",
              "  inputElement.parentElement.appendChild(cancel);\n",
              "  cancel.textContent = 'Cancel upload';\n",
              "  const cancelPromise = new Promise((resolve) => {\n",
              "    cancel.onclick = () => {\n",
              "      resolve(null);\n",
              "    };\n",
              "  });\n",
              "\n",
              "  // Wait for the user to pick the files.\n",
              "  const files = yield {\n",
              "    promise: Promise.race([pickedPromise, cancelPromise]),\n",
              "    response: {\n",
              "      action: 'starting',\n",
              "    }\n",
              "  };\n",
              "\n",
              "  cancel.remove();\n",
              "\n",
              "  // Disable the input element since further picks are not allowed.\n",
              "  inputElement.disabled = true;\n",
              "\n",
              "  if (!files) {\n",
              "    return {\n",
              "      response: {\n",
              "        action: 'complete',\n",
              "      }\n",
              "    };\n",
              "  }\n",
              "\n",
              "  for (const file of files) {\n",
              "    const li = document.createElement('li');\n",
              "    li.append(span(file.name, {fontWeight: 'bold'}));\n",
              "    li.append(span(\n",
              "        `(${file.type || 'n/a'}) - ${file.size} bytes, ` +\n",
              "        `last modified: ${\n",
              "            file.lastModifiedDate ? file.lastModifiedDate.toLocaleDateString() :\n",
              "                                    'n/a'} - `));\n",
              "    const percent = span('0% done');\n",
              "    li.appendChild(percent);\n",
              "\n",
              "    outputElement.appendChild(li);\n",
              "\n",
              "    const fileDataPromise = new Promise((resolve) => {\n",
              "      const reader = new FileReader();\n",
              "      reader.onload = (e) => {\n",
              "        resolve(e.target.result);\n",
              "      };\n",
              "      reader.readAsArrayBuffer(file);\n",
              "    });\n",
              "    // Wait for the data to be ready.\n",
              "    let fileData = yield {\n",
              "      promise: fileDataPromise,\n",
              "      response: {\n",
              "        action: 'continue',\n",
              "      }\n",
              "    };\n",
              "\n",
              "    // Use a chunked sending to avoid message size limits. See b/62115660.\n",
              "    let position = 0;\n",
              "    do {\n",
              "      const length = Math.min(fileData.byteLength - position, MAX_PAYLOAD_SIZE);\n",
              "      const chunk = new Uint8Array(fileData, position, length);\n",
              "      position += length;\n",
              "\n",
              "      const base64 = btoa(String.fromCharCode.apply(null, chunk));\n",
              "      yield {\n",
              "        response: {\n",
              "          action: 'append',\n",
              "          file: file.name,\n",
              "          data: base64,\n",
              "        },\n",
              "      };\n",
              "\n",
              "      let percentDone = fileData.byteLength === 0 ?\n",
              "          100 :\n",
              "          Math.round((position / fileData.byteLength) * 100);\n",
              "      percent.textContent = `${percentDone}% done`;\n",
              "\n",
              "    } while (position < fileData.byteLength);\n",
              "  }\n",
              "\n",
              "  // All done.\n",
              "  yield {\n",
              "    response: {\n",
              "      action: 'complete',\n",
              "    }\n",
              "  };\n",
              "}\n",
              "\n",
              "scope.google = scope.google || {};\n",
              "scope.google.colab = scope.google.colab || {};\n",
              "scope.google.colab._files = {\n",
              "  _uploadFiles,\n",
              "  _uploadFilesContinue,\n",
              "};\n",
              "})(self);\n",
              "</script> "
            ]
          },
          "metadata": {}
        },
        {
          "output_type": "stream",
          "name": "stdout",
          "text": [
            "Saving my_model2.h5 to my_model2 (1).h5\n"
          ]
        }
      ],
      "source": [
        "from google.colab import files\n",
        "uploaded = files.upload()\n"
      ]
    },
    {
      "cell_type": "code",
      "execution_count": 8,
      "metadata": {
        "colab": {
          "base_uri": "https://localhost:8080/"
        },
        "id": "U6eyEa8VH2eB",
        "outputId": "3ce9eb65-e354-4956-9bb2-34ea2bfeb370"
      },
      "outputs": [
        {
          "output_type": "stream",
          "name": "stderr",
          "text": [
            "WARNING:absl:Compiled the loaded model, but the compiled metrics have yet to be built. `model.compile_metrics` will be empty until you train or evaluate the model.\n",
            "WARNING:absl:Error in loading the saved optimizer state. As a result, your model is starting with a freshly initialized optimizer.\n"
          ]
        },
        {
          "output_type": "stream",
          "name": "stdout",
          "text": [
            "✅ Model loaded successfully.\n"
          ]
        }
      ],
      "source": [
        "import tensorflow as tf\n",
        "import numpy as np\n",
        "import cv2\n",
        "from google.colab import files\n",
        "\n",
        "# Load model\n",
        "model = tf.keras.models.load_model(\"my_model2.h5\")\n",
        "print(\"✅ Model loaded successfully.\")\n"
      ]
    },
    {
      "cell_type": "code",
      "execution_count": 11,
      "metadata": {
        "id": "eCqWKHZBH3zq"
      },
      "outputs": [],
      "source": [
        "import numpy as np\n",
        "import cv2\n",
        "from google.colab import files\n",
        "\n",
        "classes = {\n",
        "    0: 'Speed limit (20km/h)',\n",
        "    1: 'Speed limit (30km/h)',\n",
        "    2: 'Speed limit (50km/h)',\n",
        "    3: 'Speed limit (60km/h)',\n",
        "    4: 'Speed limit (70km/h)',\n",
        "    5: 'Speed limit (80km/h)',\n",
        "    6: 'End of speed limit (80km/h)',\n",
        "    7: 'Speed limit (100km/h)',\n",
        "    8: 'Speed limit (120km/h)',\n",
        "    9: 'No passing',\n",
        "    10: 'No passing for vehicles over 3.5 metric tons',\n",
        "    11: 'Right-of-way at the next intersection',\n",
        "    12: 'Priority road',\n",
        "    13: 'Yield',\n",
        "    14: 'Stop',\n",
        "    15: 'No vehicles',\n",
        "    16: 'Vehicles over 3.5 metric tons prohibited',\n",
        "    17: 'No entry',\n",
        "    18: 'General caution',\n",
        "    19: 'Dangerous curve to the left',\n",
        "    20: 'Dangerous curve to the right',\n",
        "    21: 'Double curve',\n",
        "    22: 'Bumpy road',\n",
        "    23: 'Slippery road',\n",
        "    24: 'Road narrows on the right',\n",
        "    25: 'Road work',\n",
        "    26: 'Traffic signals',\n",
        "    27: 'Pedestrians',\n",
        "    28: 'Children crossing',\n",
        "    29: 'Bicycles crossing',\n",
        "    30: 'Beware of ice/snow',\n",
        "    31: 'Wild animals crossing',\n",
        "    32: 'End of all speed and passing limits',\n",
        "    33: 'Turn right ahead',\n",
        "    34: 'Turn left ahead',\n",
        "    35: 'Ahead only',\n",
        "    36: 'Go straight or right',\n",
        "    37: 'Go straight or left',\n",
        "    38: 'Keep right',\n",
        "    39: 'Keep left',\n",
        "    40: 'Roundabout mandatory',\n",
        "    41: 'End of no passing',\n",
        "    42: 'End of no passing by vehicles over 3.5 metric tons'\n",
        "}\n",
        "\n",
        "\n",
        "\n",
        "def ai_agent(image):\n",
        "    image = image / 255.0\n",
        "    image = np.expand_dims(image, axis=0)\n",
        "    prediction = model.predict(image)\n",
        "    predicted_class = np.argmax(prediction)\n",
        "    return classes[predicted_class], predicted_class\n"
      ]
    },
    {
      "cell_type": "code",
      "execution_count": 34,
      "metadata": {
        "colab": {
          "base_uri": "https://localhost:8080/",
          "height": 107
        },
        "id": "DzvAEiC-Kc3X",
        "outputId": "ac1d7ed1-111b-4a0e-dc55-803881c0857d"
      },
      "outputs": [
        {
          "output_type": "display_data",
          "data": {
            "text/plain": [
              "<IPython.core.display.HTML object>"
            ],
            "text/html": [
              "\n",
              "     <input type=\"file\" id=\"files-5d24c81f-4639-4ea6-b283-5338b3c0b746\" name=\"files[]\" multiple disabled\n",
              "        style=\"border:none\" />\n",
              "     <output id=\"result-5d24c81f-4639-4ea6-b283-5338b3c0b746\">\n",
              "      Upload widget is only available when the cell has been executed in the\n",
              "      current browser session. Please rerun this cell to enable.\n",
              "      </output>\n",
              "      <script>// Copyright 2017 Google LLC\n",
              "//\n",
              "// Licensed under the Apache License, Version 2.0 (the \"License\");\n",
              "// you may not use this file except in compliance with the License.\n",
              "// You may obtain a copy of the License at\n",
              "//\n",
              "//      http://www.apache.org/licenses/LICENSE-2.0\n",
              "//\n",
              "// Unless required by applicable law or agreed to in writing, software\n",
              "// distributed under the License is distributed on an \"AS IS\" BASIS,\n",
              "// WITHOUT WARRANTIES OR CONDITIONS OF ANY KIND, either express or implied.\n",
              "// See the License for the specific language governing permissions and\n",
              "// limitations under the License.\n",
              "\n",
              "/**\n",
              " * @fileoverview Helpers for google.colab Python module.\n",
              " */\n",
              "(function(scope) {\n",
              "function span(text, styleAttributes = {}) {\n",
              "  const element = document.createElement('span');\n",
              "  element.textContent = text;\n",
              "  for (const key of Object.keys(styleAttributes)) {\n",
              "    element.style[key] = styleAttributes[key];\n",
              "  }\n",
              "  return element;\n",
              "}\n",
              "\n",
              "// Max number of bytes which will be uploaded at a time.\n",
              "const MAX_PAYLOAD_SIZE = 100 * 1024;\n",
              "\n",
              "function _uploadFiles(inputId, outputId) {\n",
              "  const steps = uploadFilesStep(inputId, outputId);\n",
              "  const outputElement = document.getElementById(outputId);\n",
              "  // Cache steps on the outputElement to make it available for the next call\n",
              "  // to uploadFilesContinue from Python.\n",
              "  outputElement.steps = steps;\n",
              "\n",
              "  return _uploadFilesContinue(outputId);\n",
              "}\n",
              "\n",
              "// This is roughly an async generator (not supported in the browser yet),\n",
              "// where there are multiple asynchronous steps and the Python side is going\n",
              "// to poll for completion of each step.\n",
              "// This uses a Promise to block the python side on completion of each step,\n",
              "// then passes the result of the previous step as the input to the next step.\n",
              "function _uploadFilesContinue(outputId) {\n",
              "  const outputElement = document.getElementById(outputId);\n",
              "  const steps = outputElement.steps;\n",
              "\n",
              "  const next = steps.next(outputElement.lastPromiseValue);\n",
              "  return Promise.resolve(next.value.promise).then((value) => {\n",
              "    // Cache the last promise value to make it available to the next\n",
              "    // step of the generator.\n",
              "    outputElement.lastPromiseValue = value;\n",
              "    return next.value.response;\n",
              "  });\n",
              "}\n",
              "\n",
              "/**\n",
              " * Generator function which is called between each async step of the upload\n",
              " * process.\n",
              " * @param {string} inputId Element ID of the input file picker element.\n",
              " * @param {string} outputId Element ID of the output display.\n",
              " * @return {!Iterable<!Object>} Iterable of next steps.\n",
              " */\n",
              "function* uploadFilesStep(inputId, outputId) {\n",
              "  const inputElement = document.getElementById(inputId);\n",
              "  inputElement.disabled = false;\n",
              "\n",
              "  const outputElement = document.getElementById(outputId);\n",
              "  outputElement.innerHTML = '';\n",
              "\n",
              "  const pickedPromise = new Promise((resolve) => {\n",
              "    inputElement.addEventListener('change', (e) => {\n",
              "      resolve(e.target.files);\n",
              "    });\n",
              "  });\n",
              "\n",
              "  const cancel = document.createElement('button');\n",
              "  inputElement.parentElement.appendChild(cancel);\n",
              "  cancel.textContent = 'Cancel upload';\n",
              "  const cancelPromise = new Promise((resolve) => {\n",
              "    cancel.onclick = () => {\n",
              "      resolve(null);\n",
              "    };\n",
              "  });\n",
              "\n",
              "  // Wait for the user to pick the files.\n",
              "  const files = yield {\n",
              "    promise: Promise.race([pickedPromise, cancelPromise]),\n",
              "    response: {\n",
              "      action: 'starting',\n",
              "    }\n",
              "  };\n",
              "\n",
              "  cancel.remove();\n",
              "\n",
              "  // Disable the input element since further picks are not allowed.\n",
              "  inputElement.disabled = true;\n",
              "\n",
              "  if (!files) {\n",
              "    return {\n",
              "      response: {\n",
              "        action: 'complete',\n",
              "      }\n",
              "    };\n",
              "  }\n",
              "\n",
              "  for (const file of files) {\n",
              "    const li = document.createElement('li');\n",
              "    li.append(span(file.name, {fontWeight: 'bold'}));\n",
              "    li.append(span(\n",
              "        `(${file.type || 'n/a'}) - ${file.size} bytes, ` +\n",
              "        `last modified: ${\n",
              "            file.lastModifiedDate ? file.lastModifiedDate.toLocaleDateString() :\n",
              "                                    'n/a'} - `));\n",
              "    const percent = span('0% done');\n",
              "    li.appendChild(percent);\n",
              "\n",
              "    outputElement.appendChild(li);\n",
              "\n",
              "    const fileDataPromise = new Promise((resolve) => {\n",
              "      const reader = new FileReader();\n",
              "      reader.onload = (e) => {\n",
              "        resolve(e.target.result);\n",
              "      };\n",
              "      reader.readAsArrayBuffer(file);\n",
              "    });\n",
              "    // Wait for the data to be ready.\n",
              "    let fileData = yield {\n",
              "      promise: fileDataPromise,\n",
              "      response: {\n",
              "        action: 'continue',\n",
              "      }\n",
              "    };\n",
              "\n",
              "    // Use a chunked sending to avoid message size limits. See b/62115660.\n",
              "    let position = 0;\n",
              "    do {\n",
              "      const length = Math.min(fileData.byteLength - position, MAX_PAYLOAD_SIZE);\n",
              "      const chunk = new Uint8Array(fileData, position, length);\n",
              "      position += length;\n",
              "\n",
              "      const base64 = btoa(String.fromCharCode.apply(null, chunk));\n",
              "      yield {\n",
              "        response: {\n",
              "          action: 'append',\n",
              "          file: file.name,\n",
              "          data: base64,\n",
              "        },\n",
              "      };\n",
              "\n",
              "      let percentDone = fileData.byteLength === 0 ?\n",
              "          100 :\n",
              "          Math.round((position / fileData.byteLength) * 100);\n",
              "      percent.textContent = `${percentDone}% done`;\n",
              "\n",
              "    } while (position < fileData.byteLength);\n",
              "  }\n",
              "\n",
              "  // All done.\n",
              "  yield {\n",
              "    response: {\n",
              "      action: 'complete',\n",
              "    }\n",
              "  };\n",
              "}\n",
              "\n",
              "scope.google = scope.google || {};\n",
              "scope.google.colab = scope.google.colab || {};\n",
              "scope.google.colab._files = {\n",
              "  _uploadFiles,\n",
              "  _uploadFilesContinue,\n",
              "};\n",
              "})(self);\n",
              "</script> "
            ]
          },
          "metadata": {}
        },
        {
          "output_type": "stream",
          "name": "stdout",
          "text": [
            "Saving 20.jpeg to 20 (3).jpeg\n",
            "\u001b[1m1/1\u001b[0m \u001b[32m━━━━━━━━━━━━━━━━━━━━\u001b[0m\u001b[37m\u001b[0m \u001b[1m0s\u001b[0m 56ms/step\n",
            "🔍 AI Agent Prediction: Speed limit (120km/h)\n"
          ]
        }
      ],
      "source": [
        "uploaded = files.upload()\n",
        "img_path = list(uploaded.keys())[0]\n",
        "\n",
        "img = cv2.imread(img_path)\n",
        "img = cv2.resize(img, (30,30))  # as per model input\n",
        "img = cv2.cvtColor(img, cv2.COLOR_BGR2RGB)\n",
        "\n",
        "label, pred_index = ai_agent(img)\n",
        "print(\"🔍 AI Agent Prediction:\", label)\n"
      ]
    },
    {
      "cell_type": "code",
      "execution_count": 32,
      "metadata": {
        "colab": {
          "base_uri": "https://localhost:8080/"
        },
        "id": "44Wh96eqKkbM",
        "outputId": "62911774-e7a2-4bde-c7d3-eb2d22d6559a"
      },
      "outputs": [
        {
          "name": "stdout",
          "output_type": "stream",
          "text": [
            "Was this prediction correct? (yes/no): no\n"
          ]
        }
      ],
      "source": [
        "user_feedback = input(\"Was this prediction correct? (yes/no): \")\n"
      ]
    },
    {
      "cell_type": "code",
      "execution_count": 33,
      "metadata": {
        "colab": {
          "base_uri": "https://localhost:8080/"
        },
        "id": "wdgNa_lKM6pq",
        "outputId": "6282ad17-3d17-4cf5-ed67-36160100525a"
      },
      "outputs": [
        {
          "output_type": "stream",
          "name": "stdout",
          "text": [
            "Available classes: {0: 'Speed limit (20km/h)', 1: 'Speed limit (30km/h)', 2: 'Speed limit (50km/h)', 3: 'Speed limit (60km/h)', 4: 'Speed limit (70km/h)', 5: 'Speed limit (80km/h)', 6: 'End of speed limit (80km/h)', 7: 'Speed limit (100km/h)', 8: 'Speed limit (120km/h)', 9: 'No passing', 10: 'No passing for vehicles over 3.5 metric tons', 11: 'Right-of-way at the next intersection', 12: 'Priority road', 13: 'Yield', 14: 'Stop', 15: 'No vehicles', 16: 'Vehicles over 3.5 metric tons prohibited', 17: 'No entry', 18: 'General caution', 19: 'Dangerous curve to the left', 20: 'Dangerous curve to the right', 21: 'Double curve', 22: 'Bumpy road', 23: 'Slippery road', 24: 'Road narrows on the right', 25: 'Road work', 26: 'Traffic signals', 27: 'Pedestrians', 28: 'Children crossing', 29: 'Bicycles crossing', 30: 'Beware of ice/snow', 31: 'Wild animals crossing', 32: 'End of all speed and passing limits', 33: 'Turn right ahead', 34: 'Turn left ahead', 35: 'Ahead only', 36: 'Go straight or right', 37: 'Go straight or left', 38: 'Keep right', 39: 'Keep left', 40: 'Roundabout mandatory', 41: 'End of no passing', 42: 'End of no passing by vehicles over 3.5 metric tons'}\n",
            "Enter correct class name: Speed limit (20km/h)\n",
            "✅ Final image shape: (1, 30, 30, 3)\n",
            "\u001b[1m1/1\u001b[0m \u001b[32m━━━━━━━━━━━━━━━━━━━━\u001b[0m\u001b[37m\u001b[0m \u001b[1m0s\u001b[0m 180ms/step - accuracy: 0.0000e+00 - loss: 8.6254\n"
          ]
        },
        {
          "output_type": "stream",
          "name": "stderr",
          "text": [
            "WARNING:absl:You are saving your model as an HDF5 file via `model.save()` or `keras.saving.save_model(model)`. This file format is considered legacy. We recommend using instead the native Keras format, e.g. `model.save('my_model.keras')` or `keras.saving.save_model(model, 'my_model.keras')`. \n"
          ]
        },
        {
          "output_type": "stream",
          "name": "stdout",
          "text": [
            "✅ Model updated successfully with learning.\n"
          ]
        }
      ],
      "source": [
        "if user_feedback.lower() == 'no':\n",
        "    print(\"Available classes:\", classes)\n",
        "    correct_label = input(\"Enter correct class name: \")\n",
        "\n",
        "    # ✅ Find correct index from dictionary value\n",
        "    correct_index = [k for k, v in classes.items() if v == correct_label][0]\n",
        "\n",
        "    img = img / 255.0\n",
        "\n",
        "    # ✅ Ensure correct shape\n",
        "    if img.shape == (30, 30, 3):\n",
        "        img = np.expand_dims(img, axis=0)\n",
        "\n",
        "    print(\"✅ Final image shape:\", img.shape)\n",
        "\n",
        "    y = np.array([correct_index])  # Supervised learning label\n",
        "\n",
        "    # ✅ Compile and train model\n",
        "    model.compile(optimizer='adam', loss='sparse_categorical_crossentropy', metrics=['accuracy'])\n",
        "    model.fit(img, y, epochs=1, verbose=1)\n",
        "\n",
        "    model.save(\"my_model2.h5\")\n",
        "    print(\"✅ Model updated successfully with learning.\")\n"
      ]
    },
    {
      "cell_type": "code",
      "source": [
        "!pip install gTTS"
      ],
      "metadata": {
        "colab": {
          "base_uri": "https://localhost:8080/"
        },
        "id": "mNt6YjjKgRvw",
        "outputId": "42050a49-774c-463e-a7b1-e1270ab04705"
      },
      "execution_count": 35,
      "outputs": [
        {
          "output_type": "stream",
          "name": "stdout",
          "text": [
            "Requirement already satisfied: gTTS in /usr/local/lib/python3.11/dist-packages (2.5.4)\n",
            "Requirement already satisfied: requests<3,>=2.27 in /usr/local/lib/python3.11/dist-packages (from gTTS) (2.32.3)\n",
            "Requirement already satisfied: click<8.2,>=7.1 in /usr/local/lib/python3.11/dist-packages (from gTTS) (8.1.8)\n",
            "Requirement already satisfied: charset-normalizer<4,>=2 in /usr/local/lib/python3.11/dist-packages (from requests<3,>=2.27->gTTS) (3.4.2)\n",
            "Requirement already satisfied: idna<4,>=2.5 in /usr/local/lib/python3.11/dist-packages (from requests<3,>=2.27->gTTS) (3.10)\n",
            "Requirement already satisfied: urllib3<3,>=1.21.1 in /usr/local/lib/python3.11/dist-packages (from requests<3,>=2.27->gTTS) (2.4.0)\n",
            "Requirement already satisfied: certifi>=2017.4.17 in /usr/local/lib/python3.11/dist-packages (from requests<3,>=2.27->gTTS) (2025.4.26)\n"
          ]
        }
      ]
    },
    {
      "cell_type": "code",
      "source": [
        "from gtts import gTTS\n",
        "from IPython.display import Audio\n",
        "\n",
        "def speak_text(text):\n",
        "    tts = gTTS(text=text, lang='en')\n",
        "    tts.save(\"voice.mp3\")\n",
        "    return Audio(\"voice.mp3\", autoplay=True)"
      ],
      "metadata": {
        "id": "wbRJkPJogScl"
      },
      "execution_count": 36,
      "outputs": []
    },
    {
      "cell_type": "code",
      "source": [
        "label, pred_index = ai_agent(img)\n",
        "print(\"🔍 AI Agent Prediction:\", label)\n",
        "\n",
        "# 🔊 Voice output\n",
        "speak_text(f\"The predicted traffic sign is {label}\")"
      ],
      "metadata": {
        "colab": {
          "base_uri": "https://localhost:8080/",
          "height": 110
        },
        "id": "ocGVvk-RgdTG",
        "outputId": "2925d3e0-f38d-4a91-ae88-a4e11b97042f"
      },
      "execution_count": 37,
      "outputs": [
        {
          "output_type": "stream",
          "name": "stdout",
          "text": [
            "\u001b[1m1/1\u001b[0m \u001b[32m━━━━━━━━━━━━━━━━━━━━\u001b[0m\u001b[37m\u001b[0m \u001b[1m0s\u001b[0m 50ms/step\n",
            "🔍 AI Agent Prediction: Speed limit (120km/h)\n"
          ]
        },
        {
          "output_type": "execute_result",
          "data": {
            "text/plain": [
              "<IPython.lib.display.Audio object>"
            ],
            "text/html": [
              "\n",
              "                <audio  controls=\"controls\" autoplay=\"autoplay\">\n",
              "                    <source src=\"data:audio/mpeg;base64,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\" type=\"audio/mpeg\" />\n",
              "                    Your browser does not support the audio element.\n",
              "                </audio>\n",
              "              "
            ]
          },
          "metadata": {},
          "execution_count": 37
        }
      ]
    }
  ],
  "metadata": {
    "colab": {
      "provenance": []
    },
    "kernelspec": {
      "display_name": "Python 3",
      "name": "python3"
    },
    "language_info": {
      "name": "python"
    }
  },
  "nbformat": 4,
  "nbformat_minor": 0
}